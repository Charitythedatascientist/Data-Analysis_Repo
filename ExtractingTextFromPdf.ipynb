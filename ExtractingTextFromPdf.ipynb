{
 "cells": [
  {
   "cell_type": "code",
   "execution_count": 2,
   "id": "4bfbf285",
   "metadata": {},
   "outputs": [
    {
     "name": "stdout",
     "output_type": "stream",
     "text": [
      "Requirement already satisfied: pip in c:\\users\\user\\anaconda3\\lib\\site-packages (24.0)\n"
     ]
    }
   ],
   "source": [
    "!python.exe -m pip install --upgrade pip"
   ]
  },
  {
   "cell_type": "code",
   "execution_count": 3,
   "id": "2793fc6d",
   "metadata": {},
   "outputs": [
    {
     "name": "stdout",
     "output_type": "stream",
     "text": [
      "Requirement already satisfied: pyPDF2 in c:\\users\\user\\anaconda3\\lib\\site-packages (3.0.1)\n"
     ]
    }
   ],
   "source": [
    "!pip install pyPDF2"
   ]
  },
  {
   "cell_type": "code",
   "execution_count": 12,
   "id": "66aebd65",
   "metadata": {},
   "outputs": [
    {
     "ename": "ImportError",
     "evalue": "cannot import name 'pdfFileReader' from 'PyPDF2' (C:\\Users\\user\\anaconda3\\lib\\site-packages\\PyPDF2\\__init__.py)",
     "output_type": "error",
     "traceback": [
      "\u001b[1;31m---------------------------------------------------------------------------\u001b[0m",
      "\u001b[1;31mImportError\u001b[0m                               Traceback (most recent call last)",
      "Cell \u001b[1;32mIn[12], line 1\u001b[0m\n\u001b[1;32m----> 1\u001b[0m \u001b[38;5;28;01mfrom\u001b[39;00m \u001b[38;5;21;01mPyPDF2\u001b[39;00m \u001b[38;5;28;01mimport\u001b[39;00m pdfFileReader\n",
      "\u001b[1;31mImportError\u001b[0m: cannot import name 'pdfFileReader' from 'PyPDF2' (C:\\Users\\user\\anaconda3\\lib\\site-packages\\PyPDF2\\__init__.py)"
     ]
    }
   ],
   "source": [
    "from PyPDF2 import pdfFileReader"
   ]
  },
  {
   "cell_type": "code",
   "execution_count": 6,
   "id": "7fe3708e",
   "metadata": {},
   "outputs": [
    {
     "name": "stdout",
     "output_type": "stream",
     "text": [
      "Requirement already satisfied: PyPDF4 in c:\\users\\user\\anaconda3\\lib\\site-packages (1.27.0)\n"
     ]
    }
   ],
   "source": [
    "!python -m pip install PyPDF4\n"
   ]
  },
  {
   "cell_type": "code",
   "execution_count": 9,
   "id": "2dbdfe5c",
   "metadata": {},
   "outputs": [
    {
     "ename": "ImportError",
     "evalue": "cannot import name 'PdfReader' from 'PyPDF4' (C:\\Users\\user\\anaconda3\\lib\\site-packages\\PyPDF4\\__init__.py)",
     "output_type": "error",
     "traceback": [
      "\u001b[1;31m---------------------------------------------------------------------------\u001b[0m",
      "\u001b[1;31mImportError\u001b[0m                               Traceback (most recent call last)",
      "Cell \u001b[1;32mIn[9], line 1\u001b[0m\n\u001b[1;32m----> 1\u001b[0m \u001b[38;5;28;01mfrom\u001b[39;00m \u001b[38;5;21;01mPyPDF4\u001b[39;00m \u001b[38;5;28;01mimport\u001b[39;00m PdfReader\n",
      "\u001b[1;31mImportError\u001b[0m: cannot import name 'PdfReader' from 'PyPDF4' (C:\\Users\\user\\anaconda3\\lib\\site-packages\\PyPDF4\\__init__.py)"
     ]
    }
   ],
   "source": [
    "from PyPDF4 import PdfReader\n"
   ]
  },
  {
   "cell_type": "code",
   "execution_count": null,
   "id": "8536b0de",
   "metadata": {},
   "outputs": [],
   "source": []
  }
 ],
 "metadata": {
  "kernelspec": {
   "display_name": "Python 3 (ipykernel)",
   "language": "python",
   "name": "python3"
  },
  "language_info": {
   "codemirror_mode": {
    "name": "ipython",
    "version": 3
   },
   "file_extension": ".py",
   "mimetype": "text/x-python",
   "name": "python",
   "nbconvert_exporter": "python",
   "pygments_lexer": "ipython3",
   "version": "3.10.9"
  }
 },
 "nbformat": 4,
 "nbformat_minor": 5
}
